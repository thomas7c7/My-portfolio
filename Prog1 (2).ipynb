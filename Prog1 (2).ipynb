{
 "cells": [
  {
   "cell_type": "markdown",
   "metadata": {
    "id": "GacMba-5t1SX"
   },
   "source": [
    "# CIS 443-01 - Analytics Programming\n",
    "## Program 1\n",
    "__Grading ID__: FXXXX(double click the cell in Jupyter to edit)<br>\n",
    "__Due__: Monday, September 19 (by 11:59 PM)<br />\n",
    "__Worth__: 50 pts.<br />\n",
    "__Purpose__: Use repetition control structure and accumulator pattern to estimate value of π."
   ]
  },
  {
   "cell_type": "markdown",
   "metadata": {
    "id": "WjernZjFt1Sa"
   },
   "source": [
    "### Directions\n",
    "In the code cell below, write Python code to accomplish the following using what you've learned through Chapter 3. Complete Exercise 3.14 from p. 114.\n",
    "\n",
    "![Prog1-Pi-Formula.webp](data:image/webp;base64,iVBORw0KGgoAAAANSUhEUgAAA08AAAAoCAIAAACpRVYyAAAACXBIWXMAABcSAAAXEgFnn9JSAAAF8mlUWHRYTUw6Y29tLmFkb2JlLnhtcAAAAAAAPD94cGFja2V0IGJlZ2luPSLvu78iIGlkPSJXNU0wTXBDZWhpSHpyZVN6TlRjemtjOWQiPz4gPHg6eG1wbWV0YSB4bWxuczp4PSJhZG9iZTpuczptZXRhLyIgeDp4bXB0az0iQWRvYmUgWE1QIENvcmUgNS42LWMxNDUgNzkuMTYzNDk5LCAyMDE4LzA4LzEzLTE2OjQwOjIyICAgICAgICAiPiA8cmRmOlJERiB4bWxuczpyZGY9Imh0dHA6Ly93d3cudzMub3JnLzE5OTkvMDIvMjItcmRmLXN5bnRheC1ucyMiPiA8cmRmOkRlc2NyaXB0aW9uIHJkZjphYm91dD0iIiB4bWxuczp4bXA9Imh0dHA6Ly9ucy5hZG9iZS5jb20veGFwLzEuMC8iIHhtbG5zOmRjPSJodHRwOi8vcHVybC5vcmcvZGMvZWxlbWVudHMvMS4xLyIgeG1sbnM6cGhvdG9zaG9wPSJodHRwOi8vbnMuYWRvYmUuY29tL3Bob3Rvc2hvcC8xLjAvIiB4bWxuczp4bXBNTT0iaHR0cDovL25zLmFkb2JlLmNvbS94YXAvMS4wL21tLyIgeG1sbnM6c3RFdnQ9Imh0dHA6Ly9ucy5hZG9iZS5jb20veGFwLzEuMC9zVHlwZS9SZXNvdXJjZUV2ZW50IyIgeG1wOkNyZWF0b3JUb29sPSJBZG9iZSBQaG90b3Nob3AgQ0MgMjAxOSAoTWFjaW50b3NoKSIgeG1wOkNyZWF0ZURhdGU9IjIwMTktMDItMjVUMTU6MTE6MjAtMDU6MDAiIHhtcDpNb2RpZnlEYXRlPSIyMDE5LTAzLTExVDIxOjM1OjE2LTA0OjAwIiB4bXA6TWV0YWRhdGFEYXRlPSIyMDE5LTAzLTExVDIxOjM1OjE2LTA0OjAwIiBkYzpmb3JtYXQ9ImltYWdlL3BuZyIgcGhvdG9zaG9wOkNvbG9yTW9kZT0iMyIgcGhvdG9zaG9wOklDQ1Byb2ZpbGU9InNSR0IgSUVDNjE5NjYtMi4xIiB4bXBNTTpJbnN0YW5jZUlEPSJ4bXAuaWlkOmZmYTA2YmY4LThlZTctNDg1Ni04OWM3LTVjMjA2YzQxMDFkZSIgeG1wTU06RG9jdW1lbnRJRD0ieG1wLmRpZDo1NTA0YmI5YS05NTU2LTQ3NjktYTVjOS05ZmZhMzkzMjMxMjgiIHhtcE1NOk9yaWdpbmFsRG9jdW1lbnRJRD0ieG1wLmRpZDo1NTA0YmI5YS05NTU2LTQ3NjktYTVjOS05ZmZhMzkzMjMxMjgiPiA8eG1wTU06SGlzdG9yeT4gPHJkZjpTZXE+IDxyZGY6bGkgc3RFdnQ6YWN0aW9uPSJjcmVhdGVkIiBzdEV2dDppbnN0YW5jZUlEPSJ4bXAuaWlkOjU1MDRiYjlhLTk1NTYtNDc2OS1hNWM5LTlmZmEzOTMyMzEyOCIgc3RFdnQ6d2hlbj0iMjAxOS0wMi0yNVQxNToxMToyMC0wNTowMCIgc3RFdnQ6c29mdHdhcmVBZ2VudD0iQWRvYmUgUGhvdG9zaG9wIENDIDIwMTkgKE1hY2ludG9zaCkiLz4gPHJkZjpsaSBzdEV2dDphY3Rpb249InNhdmVkIiBzdEV2dDppbnN0YW5jZUlEPSJ4bXAuaWlkOmZmYTA2YmY4LThlZTctNDg1Ni04OWM3LTVjMjA2YzQxMDFkZSIgc3RFdnQ6d2hlbj0iMjAxOS0wMy0xMVQyMTozNToxNi0wNDowMCIgc3RFdnQ6c29mdHdhcmVBZ2VudD0iQWRvYmUgUGhvdG9zaG9wIENDIDIwMTkgKE1hY2ludG9zaCkiIHN0RXZ0OmNoYW5nZWQ9Ii8iLz4gPC9yZGY6U2VxPiA8L3htcE1NOkhpc3Rvcnk+IDwvcmRmOkRlc2NyaXB0aW9uPiA8L3JkZjpSREY+IDwveDp4bXBtZXRhPiA8P3hwYWNrZXQgZW5kPSJyIj8+5Y2TCAAAFJhJREFUeJzt3XdcU+f+B/AnyUliGDLDDg6EIKAi9taBVmjvdYPa+6u23t7fy8GsHdo6AMVNbR3X26K42roJXJw4QVFQqxUREGUV2SOLERKSkHFyfn+klx+vBNHKSan4ff8F55zX53kS/uD7Os+iEASB3gwHkvYHBQd5jxxJevKJY8eVncqIyEjSk3EcP3TgYMjcUDc3N9LDU3kpra0t0cuXk55sQCKRJJ88+eGiRba2tqZuCwAAAAAGqP3dgT/Iv/fsObh/v8eIEaQnFz1+vHXzZl9fX9KTEUIb1q3nJZ8yRalXXla2MX4919ub9GRjMavXZFy9BqUeAAAA0C+w/u7AHyHvYd6h/QfOpV+g0+mkh38SFf35yhWBkyeTnpxxLePChQu3f75LejJCKDoiMiwi4t333jNFeHe8U6ce5eXdy31g6oYAAAAA0CPKmzCSO2nChGVhYcvCwkhPjo6I7OiQnUhOJj25XSJ5Lyh445YtIaEhpIev/PyLpqam1NNppCcbqKmufn/uvP2HDo6fMMHUbQEAAACgRwP/3V7YkqXDhw0zRal3Ju10bu6DXx7mdnZ2YhiGYWR+mUsXLwkODg4JDSEIgkKhkJh8+dKl7Oxbd+/fV6vVFArFFO87u0RHRC5YuHD8hAk4jtNoNNM1BAAAAIDnGeDz9lJ5KeVlZSd5vHkhoRvjN5CY3NTU9PW2bbzU/5w7c87fb5RarSYx/Ls9e+Tyjp17/hU6e07id9+TmNzcLN4Uv/HYiZM3s7J8ud4KhYLEcAPxceusbWzWxMb8LfjdlGSe6RoCAAAAQC8GcrVXW1ubsHXrvoMHEEIXLl1sa2sjMTxsydJ578/34nplZd0QCAQkvrjKf5T/4+EfTvKSZVLpxSuXOzpkZCUjhMKXhk2bMW30mNE3b2Q1NTWZ7n1b1vUbly5e5P0n9VlFxY3sW52dShM1BAAAAIDeDeRqLzIs/KOP/zF69GitVmttbmHGYpGVnLBlKyKI+I0bEUKWFpaDBw8mKxkhtOKzz75YucLeni3r6LCxsGQyB5GVvHvHTnlHR8L27QghCwsLKysrspINSKXSdbGxGzZvQgip1erBZuYMBsNEbQEAAACgdwO22tv57bccDic2Lo705F/u3897+DD1zGn9rywWi0qlUqnkfJOxa9ZOmDRpWXg4QojJZNIZDAqVnEl7BfkFd27fTkn7bWUGi8WiUkjrtoHYNWvnzp83//33EUIYnU6n0zFTzg4EAAAAQC9omzZt6u8+kO96ZubixYvXrF1DEERZWVlZWVn6hXQ7e/sRniPodLqZmdkrJ6tUqnemTHF2dh7i7p5140ZVZeX1jEyBQIDjOJ1Od+3bxninTp6MXx8fty5OIpHUVFcX5udfuXTZ0dHRjeNmbm7BZDJfOVmH41OnvmNtbT1ihEfWjRtVVVXXMzIbGxsJQodhmBuH05duG9i9a9ePP/4UFxdXV1fHb2p6mJt7I/O6i6sLm822trEhdy0LAAAAAF5oYFZ7+XmP9CVd7v0HdbV1ZaWlpaWlVCpV3tHh5c21s7N75WSBQIDRaF5eXhUVFXK5QqFQlBQXt7S0ODu7cNw5Izw9+9LtvNyHNrY2HbKO/EePamtqS0tLysvLaTSaUqH0G+Vn2YfxYqFIRCEILpf77FmlXK5QKpSlJSUikcjZ2cWN4+bl5dWXbht9ilw2214oFD0uKKitrS15WvysspKOYQqFYuy4ABZ54+kAAAAAeBl/sv32CCInJ2fU6NHknrug1WrZ1jaR0dHf7NxBYqzehvXxx48craipIn0rE7FI5MP1jo2L+3L1KnKTEULbExL2fp9YUV3VlzedL6O0pCRwwsTEpH3/+PhjkzYEAAAAgB79uebtHT50OH7devKP2CIIjVaL63CSYxFCCCmVCoVSodPpSE/G6HSCIHATJCOElEqlQqHAcZN8J91RqVRCpyNzw0AAAAAA/B5/omrv6dOnu3bs+C6RzO3lEEL19fWHDx2Wqzpv5+SUl5WRmCwUCs+dPZt981ZLW+sPhw4pSd27rram5uD+Ay3tkusZGQ31DSQmi0Wi9AsXbly/IemQ/Xj4sFwuJzHcQFVl1bEjRyXyjnNnzwv4fNM1BAAAAIDn+RNNmf8kIuLzFSvGBgSQG1tZ+QzHcd6pZLlcXlxczPX2JitZo9EoFIqtCQks1iCBQNAulbLIGxUtKy2zHGyZfPKUTCZ98vSJG6dP6z+602i18o6O+A0bzM3N+Hx+u0Ribm5OVnh3OI4/ffqE4+6efPKURCIpKytzcnY2RUMAAAAA6AWFIAilUpmSzBMKhUwmU61W0WgYg8HQaNSStrZRY8YsWLjwD+jH58s/FYlEKWn/+QPaAgAAAAB4c2AIoTkzZ93Mye7xdnBQ0B9Q7Z0/dy43Nzf7zu2tmzb7BwSEhIaYukUAAAAAgDcEbRCDoZArUtNS83PzpkyenJ2d4+frW1RQuHdvYszamNDQUAdHR5P2QCgUhi9Z+tORI5aDB0+fMWNcQMCkwEkmbbEXYrG4paXFdIdMmEhzc7NYLLa2tu7vjpCpsbFRqVRaWFj0d0cAAACA1xs1YNy4Uym8kSN9VCqVp5ennb3dCM8RFITe+9vf/jL+bb9Ro0zdg7AlS2eHhIz2H9MsbmbRGZaWlqZusReJ//4uMiy8Hzvwag4dOBC2eEl/94JkMavX7Nqx84WPPX3yJCc72+DirZs3fy0v735FKBReuXxZpVKR2EMAAADgtYBNmz4dISSTyfh8vru7O0KoqrKKQqW+fNV1Oi3tcWFh97NiFQqFm5vb0vDwF+67sWf3bgaDse3rBIQQDaNhGEah9OdmHSqVSqPR9GMHXo1apVa/ht3unVar0b7oQxE6IjQ0tLqmpqjw8agxo/UXr125OnP2rHemTMm5fbvryZg1a44eP74/KSkqOtqEnQYAAAD+fH5bkysSiTQajX7JJJ/PZzCZL7/pbk1NTUF+vp29fdcVqVSqVCgpBIF6Ld3u3rmz9/vEi1cuI4S0ON4sFhM6naxDhhDCcZxGo3U9WVdXd+LYMSqVanzuVltbW2Bg4OyQ50716+zspFAoTCZToVAolUpbW1vjglKtVmu1WjMzMwzD6BiGEFJrNDocHzRokHEgjuMKuby1tbWlpUWL464uLq1tkl/LSod5DA8IGNf9yfLy8uSTJ83MzIyPo21ubp4+ffq7f/3r87qtUChoNBqTyZTJZFqt1sbGxviZrm7TaDQ6HUMIaTQaHMeZTKbxZ9TpdDKZTCwSicXizs7OYcOGtbS0VFVWenK5/v7+3Z98XFiYkpxsa3TiCEEQUql0dkjIxIkTn9dttVpNo1JpGKZWqag0GoZhGo1Gp9MxmUwcx3U6HZ1O12q1MpmMSqFY9TT03PX3olJp+u9NoVBgGMZgMIwfplApM6ZNq3xW2f3wt6HDhvn7jZo5Y0b3JydMmJif98jgkwIAAABvgt+Kp6aGRiqF4ubmhhBql0iUSuXLR6xavXrV6tWv0Pa1K1cdHZ1SknniZjHLjCUSCM3MzM+fPScQ8FetXuPg4ND1pFwuLyoqolKpxv/yhUKh+5AhBhdzH+TGrl0jk3UoFcqG+nqWGcvd3b22ttbMzOzO/XsuLi4Gz2/flnD27FkOh9PU2NjZ2Tlz+oy21lZPT88jx45hdMP6cvE//zf3wQMLCwuBQKBQKDgcd4QIkUi08qsvDao9abu0sLDQ0tKye+Wq19jYOHrMGIOLV69cWRcTS6FSO5XK2tpaS0tLV1fXmuqaIUOH5Ny9Y2H0tnXXjh2pKakcDofP5yvk8pnTprdLJEOGDv3p2FHjA8pCZs3KvnnLwcGhVdoulck4Ts6IQqnnN8WsWWtQA7W2tj7Kz3c22i2FIIiWlpbx48cbXL+UfvHb7dtt7exaWpp/La8YMcLD2to6P7/A1dXFjeOW/yjf3Nyc6+1dUlysUCi4XK5crhAJBaP9x6SdPWv8B/0kMqqoqIjNZjfU15cUF8+eMbOhoWH27Nlff/sN6knSwYMGV7xHehc8KTK4GBkdFRkd1WMCAAAAMLD9dnLa/n1J62JiaxrrBw8evC4m9ofDh/liEZVKLS0psWez2Wx2LxEHk/bf+/meje3/v3ySyWQeHh6x69f1MixLEASO4wRBtLe3I4Rs7ewKHj0Kmjxlc8K2L7/6yuDd3u/1892fE7Zs8fHzHTx4sFgkZjKZNrY2rq6ubhzOO1OnGlcYv5aX8/l8Dw+PrVu2lJeVHzx8qLW1ddCgQf5jxxp/BP0sMS8vbmNDQ7u03dnZ2c7OztLSchCLZfwO73e5lJ6e+H3ixEkTGQwGv6nJytrG2trK0dFx2LDhkyYHGodXVFQ0NTYOHz5857ffFuQXHPrxh/Z2CYPBHOPvb/ztpSTz1GrVSB+ftjZJa3Ozo7OjnT3bycnJ2tq6x9dmLy/71q0zaWnj3nqLQqEIhUI7O3szMxafL2AwGHZ2tiKRiEKhOjiwxWKxRCKxtLR0dHRgsx1c3Thcb67xhyosKJDL5TY2NrFrY2xtbeM3bqivr3d0dPQeObIvnQQAAADeWBhCSCwWf71tmyfXSz/3zs7eTtTa8jD3YcC4gKNHjsTGxfUeget0Gq1Gq9V2XdFqtVocR6i3YVwKhaIflrX/7xAwh8MZxGJZW1khhPpS6iGEAicHXsnMePnnvbhcLy4XIcRmO4gEwt53YJ4aFKT/wdmF5L2C54SGzgkNffnnPT09PT09EUKOTk5WVlYjfXx6efjDRR/1tX/PERQcHBQcTFaa/9ix+h/s7e3ZDuzhHh7DPTzICgcAAADeQBhCKCIsrEHAnzd/vv7SjJmz1q5ePWVyII7j/9qzx7qnGWPdffLp8k8+Xd7Hfmi12szMzGZJ2y/3f1kaFtbHtFfWJmmrrqnur9ZfmUQiqXoNu927+oZ6AhH93QsAAADgtUfbtGlTzq3sZ7/++s3OHRwOByHEdmBbmFvcyspaFha+NWHbH9OP8+fOFeYXjBkzmsFkEATh6eVFVrJ+UcJLLjrRqNVDhw2b8PxVCAakUmlpScnlS5coFIrxRDey6Ee9exkm1mo0HHf3SZNeap/C/LxH937+2d6ebW5hkgPT9HMD+r62WqVSjRo12sfXl4xOAQAAAG8uir6SwHG8++QtgiA0Gk0fp3P1u8aGxqS9e+vq6h7m5vr6+SYdOODo5ERW+KfRn6TyeFQaTalUmpubX83M6BqC7IvIsPCc7Gyb/y4c1qjVbAc2g8lcv2HDW2+91cdwoVC4bctWJydHc3NzXjJvwcIFX73S8poeicXi6urqGxmZWly7YdMmg7tNjU11dbWn09JcXFy+XLWKrEYBAAAA8EIYQohGoxnMk6NQKK97qVdbW7s+Ni4kNCThm+0Pc3PfHj9eKpNdz8oiJfz+vXu3b+cs/+wzjxEewz08fP38SDnH4mZW1u2cnLnz5mF0TL+ExcXZOZnHE4pEfS/1EEJzZsycPGXKuvh4hJCPn9/06dOtbWyWkTRuXvK0+EBSUsrptNkzZxrfzS/IT0pMvJqZGdF/w/QAAADAm+m3NbkDz+2cHK1G07Wh3ZxZs+7cudsmkVBpfVo2q5e0dy+bzf6A7BOEH+XlsVgsg7HL6Mio8ePfXrx0aR/DDyTt/3T5cr5I2LXCeua0aYUFhQ18Pg3r05qY7sb5j3V1cUm/ctn4lkqlcndxnTt/3qEffiCrOQAAAAC8kOFmcgPGO1Ondv0sFAhKi0s2b9lMSqmHELqUftHHz9d9yJCRPj7dDxHpo3FGL/DOnD4t4PP7XuohhHKybzk5OnY/ImXe/PevXb9eVPR4bEBA3/P1bKytcZ2ux1tMJpPFYunwnu8CAAAAwETIqX7+zOrr68OWLovfuHHFypWkBMrlcoxOP/rTkSmTAu2tbKIiIlpaWkhJNpaSzFvwITlvEG3t7BqFgrq6uq4r+pUrNdVkLubV4ni/Hn0HAAAAAEMDudqrfFa5a8fOBX//+/XMzORTp9LPnycllsVipV++JBCLC4qKPl/xxcHDh98e91ZTQyMp4d2dOX1aq9V+tGgRKWkLFi5ACG3bvMXg+sAcyAcAAADAfw3Yak+H6w4fOmhnZ3vn3j1hs7itXTJ3/vyrl3uYT/Z76XdCweiYr5/vrj3/ysnOrqqtiV+/vu/JBs6knV5A3tTAqUHBu3fu5CWfmhcSkpqSghBSKOQIIdi7GAAAABjYBmy1hyhoW0LCkmXLMAyzsrY+cfwEQmhvYiLp7bwzdeqHH3yQmZGhUqlIjL127VqnqvOjf5DzYk/vy1WrnlVXh4SGDhkyBCGUk53j5ujk0+sJHAAAAAB43Q3Yao9KpWJ0etev3j4jR/n4trdLTdHWCE9PnU7Xx9PeDJw4fnza9OkkBuoNGTp0WXj4hIkTFQrFxfT0Rf/8+HXfagcAAAAAvRuw1Z4xeUeHn5+fKZLv3rkbODlQf+wvKTIzMiRtbVHR0WQFGvtuz781Gk3Miw5BBgAAAMDrbsDuwGLgzu3bIpEoIiqS9OSc7Oyix4+zsrNJzDx69GhIaCiJgQaeFBXFr1938lSyzYsOQf69qFQqk8EkNxMAAAAAfTEw3+1pNJrcBw9kUpn+V6lUGhUesTY2JmDcOHIbKikujgqP3Ll7t/9Yf7IyMzMy2iUS073Yu3Uza+6ckO++T/xw0UckxqrV6srKyseFhQ/zHtbW1Gg0mu53VWp1QX5+bWNDUdHj9vZ2cuc4AgAAAKAXA/MsDZFQ6OjkNGf2bB6P9+CXB/v27p0aNPULkvbbQwgRBFFeVnbh/Pm7d+9+9tnn02aQOcHuww8WvPveuxFRUSRmIoR0Ot3D3NyL6emlJSUrv/pq8pQp5OaXlZampaa2tUkQBdnb2f/Pgg+8uNyuu4/y8i6cO9chl1OpVGcnp4WLFrm5uZHbAQAAAAD0aGBWewihY0eOHjt6lOvN9fcfGxQcxPX2Jiu5oqJi/959GIZxvb0/WLiAxLM0EEJVlZX79u77+pvtTCbJ46FPnz5NSU7+y9tvh4SG6jeRAQAAAMCb4P8An8dOvWjP/4UAAAAASUVORK5CYII=)\n",
    "\n",
    "#### Part 1\n",
    "\n",
    "Write your solution to allow the user to enter a value for the number of terms that they want the code to run for in the approximation calculation. For consistency, let's agree to start counting terms from the first fraction in the series (Term 1 has denominator 3, Term 2 has denominator 5, etc.). Output the estimate after each term is added in a tabular format, using f-strings, field width, and right-alignment. Print the term number in a field with width of 8 and the associated estimate of π in a field with width of 10 and 6 digits after the decimal. (__45 pts.__)\n",
    "\n",
    "I suggest that you develop your solution in steps. You must alternate between subtraction and addition on each term (or, use addition with a coefficient that alternates from -1 to +1 on each term), so you might start with that. The denominator is going up by 2s each term, so 3, 5, 7, etc., so maybe get that working next. Once you have all the pieces working, then you put it together in a summation (that starts from 4 instead of 0 for this series).\n",
    "\n",
    "If you wish to incorporate a little of Chapter 4, put the code for the estimation in a method named _pi_estimator_ that accepts number of terms as a parameter.\n",
    "\n",
    "For more information about π, check out this <a href=\"https://www.mathsisfun.com/numbers/pi.html\" target=\"_blank\">Math is Fun article</a> or <a href=\"http://www.pi314.net/eng/index.php\" target=\"_blank\">The World of Pi site</a>."
   ]
  },
  {
   "cell_type": "code",
   "execution_count": 60,
   "metadata": {
    "id": "8ZZORCgut1Sb"
   },
   "outputs": [
    {
     "name": "stdin",
     "output_type": "stream",
     "text": [
      "Enter grade: 80\n",
      "Enter grade: 60\n",
      "Enter grade: 90\n",
      "Enter grade: -1\n"
     ]
    },
    {
     "name": "stdout",
     "output_type": "stream",
     "text": [
      "76.66666666666667\n"
     ]
    }
   ],
   "source": [
    "total = 0\n",
    "counter = 0 \n",
    "\n",
    "grade = int(input('Enter grade:'))\n",
    "\n",
    "while grade != -1:\n",
    "    total += grade\n",
    "    counter += 1\n",
    "    grade = int(input('Enter grade:'))\n",
    "    \n",
    "if counter != 0:\n",
    "    average = total / counter\n",
    "    print(average)"
   ]
  },
  {
   "cell_type": "markdown",
   "metadata": {
    "id": "yk3sJ9Znt1Sn"
   },
   "source": [
    "#### Part 2\n",
    "**Answer the following**:\n",
    "\n",
    "How many terms of this series do you have to use before you first get 3.14?<br />\n",
    "XX<br />\n",
    "3.141?<br />\n",
    "XX<br />\n",
    "3.1415?<br />\n",
    "XX<br />\n",
    "3.14159?<br />\n",
    "XX<br />\n",
    "Double click the cell in Jupyter to edit (__5 pts.__)\n",
    "\n",
    "__Note__: To answer the questions above about how many terms are needed to reach a specific approximation, you will probably want to use a `while` loop to continue the calculation term by term until the specified approximation is reached. You'll either want to truncate the estimate or round the estimate when deciding if it matches the specified approximation."
   ]
  },
  {
   "cell_type": "code",
   "execution_count": 2,
   "metadata": {},
   "outputs": [
    {
     "name": "stdout",
     "output_type": "stream",
     "text": [
      "1 1\n",
      "2 3\n",
      "3 6\n",
      "4 10\n",
      "5 15\n",
      "6 21\n",
      "7 28\n",
      "8 36\n",
      "9 45\n",
      "10 55\n",
      "11 66\n",
      "12 78\n",
      "13 91\n",
      "14 105\n",
      "The sum is 105 after 14 iterations\n"
     ]
    }
   ],
   "source": [
    "sum = 0\n",
    "i = 1\n",
    "target = 100\n",
    "while sum < target:\n",
    "    sum += i\n",
    "    print(i, sum)\n",
    "    i += 1\n",
    "    \n",
    "print(f'The sum is {sum} after {i-1} iterations')"
   ]
  },
  {
   "cell_type": "markdown",
   "metadata": {
    "id": "bexgWeCMt1Sn"
   },
   "source": [
    "Be sure to save and exit your Jupyter Notebook and Shutdown Jupyter Lab (from the __File__ menu) before you submit your notebook on Blackboard for grading."
   ]
  }
 ],
 "metadata": {
  "colab": {
   "collapsed_sections": [],
   "name": "Prog1.ipynb",
   "provenance": []
  },
  "kernelspec": {
   "display_name": "Python 3 (ipykernel)",
   "language": "python",
   "name": "python3"
  },
  "language_info": {
   "codemirror_mode": {
    "name": "ipython",
    "version": 3
   },
   "file_extension": ".py",
   "mimetype": "text/x-python",
   "name": "python",
   "nbconvert_exporter": "python",
   "pygments_lexer": "ipython3",
   "version": "3.9.12"
  }
 },
 "nbformat": 4,
 "nbformat_minor": 4
}
